{
  "nbformat": 4,
  "nbformat_minor": 0,
  "metadata": {
    "kernelspec": {
      "display_name": "Python 3",
      "language": "python",
      "name": "python3"
    },
    "language_info": {
      "codemirror_mode": {
        "name": "ipython",
        "version": 3
      },
      "file_extension": ".py",
      "mimetype": "text/x-python",
      "name": "python",
      "nbconvert_exporter": "python",
      "pygments_lexer": "ipython3",
      "version": "3.6.6"
    },
    "colab": {
      "name": " Credit Card Default Prediction - Capstone Project.ipynb",
      "provenance": [],
      "collapsed_sections": [],
      "include_colab_link": true
    }
  },
  "cells": [
    {
      "cell_type": "markdown",
      "metadata": {
        "id": "view-in-github",
        "colab_type": "text"
      },
      "source": [
        "<a href=\"https://colab.research.google.com/github/Tarunsri1998/Credit-Card-Default-Prediction/blob/main/Credit_Card_Default_Prediction_Capstone_Project.ipynb\" target=\"_parent\"><img src=\"https://colab.research.google.com/assets/colab-badge.svg\" alt=\"Open In Colab\"/></a>"
      ]
    },
    {
      "cell_type": "markdown",
      "metadata": {
        "id": "tOGC-qoyhJeX"
      },
      "source": [
        "# <b><u> Project Title : Predicting whether a customer will default on his/her credit card </u></b>"
      ]
    },
    {
      "cell_type": "markdown",
      "metadata": {
        "id": "Y06xIdG26kRF"
      },
      "source": [
        "## <b> Problem Description </b>\n",
        "\n",
        "### This project is aimed at predicting the case of customers default payments in Taiwan. From the perspective of risk management, the result of predictive accuracy of the estimated probability of default will be more valuable than the binary result of classification - credible or not credible clients. We can use the [K-S chart](https://www.listendata.com/2019/07/KS-Statistics-Python.html) to evaluate which customers will default on their credit card payments\n"
      ]
    },
    {
      "cell_type": "markdown",
      "metadata": {
        "id": "AlLxAtlziMbP"
      },
      "source": [
        "## <b> Data Description </b>\n",
        "\n",
        "### <b>Attribute Information: </b>\n",
        "\n",
        "### This research employed a binary variable, default payment (Yes = 1, No = 0), as the response variable. This study reviewed the literature and used the following 23 variables as explanatory variables:\n",
        "* ### X1: Amount of the given credit (NT dollar): it includes both the individual consumer credit and his/her family (supplementary) credit.\n",
        "* ### X2: Gender (1 = male; 2 = female).\n",
        "* ### X3: Education (1 = graduate school; 2 = university; 3 = high school; 4 = others).\n",
        "* ### X4: Marital status (1 = married; 2 = single; 3 = others).\n",
        "* ### X5: Age (year).\n",
        "* ### X6 - X11: History of past payment. We tracked the past monthly payment records (from April to September, 2005) as follows: X6 = the repayment status in September, 2005; X7 = the repayment status in August, 2005; . . .;X11 = the repayment status in April, 2005. The measurement scale for the repayment status is: -1 = pay duly; 1 = payment delay for one month; 2 = payment delay for two months; . . .; 8 = payment delay for eight months; 9 = payment delay for nine months and above.\n",
        "* ### X12-X17: Amount of bill statement (NT dollar). X12 = amount of bill statement in September, 2005; X13 = amount of bill statement in August, 2005; . . .; X17 = amount of bill statement in April, 2005.\n",
        "* ### X18-X23: Amount of previous payment (NT dollar). X18 = amount paid in September, 2005; X19 = amount paid in August, 2005; . . .;X23 = amount paid in April, 2005."
      ]
    },
    {
      "cell_type": "markdown",
      "source": [
        "##**Importing Libraries and Mounting the DRIVE**"
      ],
      "metadata": {
        "id": "BreVuPI0VPHl"
      }
    },
    {
      "cell_type": "code",
      "metadata": {
        "id": "dByMsuzT8Tnw"
      },
      "source": [
        "#Packages related to general operating system & warnings\n",
        "import os \n",
        "import warnings\n",
        "warnings.filterwarnings('ignore')\n",
        "\n",
        "#Packages related to data importing, manipulation, exploratory data analysis, data understanding\n",
        "import numpy as np\n",
        "import pandas as pd\n",
        "from pandas import Series, DataFrame\n",
        "import scipy.stats as stats\n",
        "\n",
        "#Packages related to data visualizaiton\n",
        "import seaborn as sns\n",
        "import matplotlib.pyplot as plt\n",
        "%matplotlib inline\n",
        "\n",
        "#Modules related to split the data & gridsearch\n",
        "from sklearn.model_selection import train_test_split, GridSearchCV\n",
        "\n",
        "#Module related to calculation of metrics\n",
        "from sklearn import metrics\n",
        "\n",
        "from sklearn.preprocessing import StandardScaler, OneHotEncoder\n",
        "\n",
        "import statsmodels.formula.api as smf\n",
        "\n",
        "from sklearn.metrics import accuracy_score, confusion_matrix,classification_report\n",
        "\n",
        "from sklearn.linear_model import LogisticRegression, LinearRegression, ElasticNet, Lasso, Ridge\n",
        "from sklearn.neighbors import KNeighborsClassifier\n",
        "from sklearn.tree import DecisionTreeClassifier\n",
        "from sklearn.svm import LinearSVC, LinearSVR, SVC, SVR\n",
        "from sklearn.naive_bayes import BernoulliNB, MultinomialNB, GaussianNB"
      ],
      "execution_count": 105,
      "outputs": []
    },
    {
      "cell_type": "code",
      "source": [
        "from google.colab import drive\n",
        "drive.mount('/content/drive')"
      ],
      "metadata": {
        "colab": {
          "base_uri": "https://localhost:8080/"
        },
        "id": "Dr6Ku2SrVbZ0",
        "outputId": "1b5969ea-5c93-494e-c2b5-f2c9fa4e4654"
      },
      "execution_count": 106,
      "outputs": [
        {
          "output_type": "stream",
          "name": "stdout",
          "text": [
            "Drive already mounted at /content/drive; to attempt to forcibly remount, call drive.mount(\"/content/drive\", force_remount=True).\n"
          ]
        }
      ]
    },
    {
      "cell_type": "code",
      "source": [
        "# Loading the Dataset\n",
        "credit_card_df=pd.read_csv(\"/content/drive/MyDrive/CAPSTONE/Credit Card Default Prediction/default of credit card clients.xls - Data (1).csv\")"
      ],
      "metadata": {
        "id": "MQEJrRTyV4MT"
      },
      "execution_count": 108,
      "outputs": []
    },
    {
      "cell_type": "markdown",
      "source": [
        "###**Introduction to the data**"
      ],
      "metadata": {
        "id": "OLnyERS1f_FT"
      }
    },
    {
      "cell_type": "code",
      "source": [
        "# Viewing the data of top 5 rows to take a glimps of the data\n",
        "credit_card_df.head()"
      ],
      "metadata": {
        "id": "gDWxHwrmWqvH",
        "colab": {
          "base_uri": "https://localhost:8080/",
          "height": 314
        },
        "outputId": "4e4b8a6d-7751-4414-f46d-155c47146c23"
      },
      "execution_count": 109,
      "outputs": [
        {
          "output_type": "execute_result",
          "data": {
            "text/plain": [
              "   ID  LIMIT_BAL  SEX  EDUCATION  MARRIAGE  AGE  PAY_0  PAY_2  PAY_3  PAY_4  \\\n",
              "0   1      20000    2          2         1   24      2      2     -1     -1   \n",
              "1   2     120000    2          2         2   26     -1      2      0      0   \n",
              "2   3      90000    2          2         2   34      0      0      0      0   \n",
              "3   4      50000    2          2         1   37      0      0      0      0   \n",
              "4   5      50000    1          2         1   57     -1      0     -1      0   \n",
              "\n",
              "   ...  BILL_AMT4  BILL_AMT5  BILL_AMT6  PAY_AMT1  PAY_AMT2  PAY_AMT3  \\\n",
              "0  ...          0          0          0         0       689         0   \n",
              "1  ...       3272       3455       3261         0      1000      1000   \n",
              "2  ...      14331      14948      15549      1518      1500      1000   \n",
              "3  ...      28314      28959      29547      2000      2019      1200   \n",
              "4  ...      20940      19146      19131      2000     36681     10000   \n",
              "\n",
              "   PAY_AMT4  PAY_AMT5  PAY_AMT6  default payment next month  \n",
              "0         0         0         0                           1  \n",
              "1      1000         0      2000                           1  \n",
              "2      1000      1000      5000                           0  \n",
              "3      1100      1069      1000                           0  \n",
              "4      9000       689       679                           0  \n",
              "\n",
              "[5 rows x 25 columns]"
            ],
            "text/html": [
              "\n",
              "  <div id=\"df-0ee67cdd-672e-469c-b6d7-6a339740b478\">\n",
              "    <div class=\"colab-df-container\">\n",
              "      <div>\n",
              "<style scoped>\n",
              "    .dataframe tbody tr th:only-of-type {\n",
              "        vertical-align: middle;\n",
              "    }\n",
              "\n",
              "    .dataframe tbody tr th {\n",
              "        vertical-align: top;\n",
              "    }\n",
              "\n",
              "    .dataframe thead th {\n",
              "        text-align: right;\n",
              "    }\n",
              "</style>\n",
              "<table border=\"1\" class=\"dataframe\">\n",
              "  <thead>\n",
              "    <tr style=\"text-align: right;\">\n",
              "      <th></th>\n",
              "      <th>ID</th>\n",
              "      <th>LIMIT_BAL</th>\n",
              "      <th>SEX</th>\n",
              "      <th>EDUCATION</th>\n",
              "      <th>MARRIAGE</th>\n",
              "      <th>AGE</th>\n",
              "      <th>PAY_0</th>\n",
              "      <th>PAY_2</th>\n",
              "      <th>PAY_3</th>\n",
              "      <th>PAY_4</th>\n",
              "      <th>...</th>\n",
              "      <th>BILL_AMT4</th>\n",
              "      <th>BILL_AMT5</th>\n",
              "      <th>BILL_AMT6</th>\n",
              "      <th>PAY_AMT1</th>\n",
              "      <th>PAY_AMT2</th>\n",
              "      <th>PAY_AMT3</th>\n",
              "      <th>PAY_AMT4</th>\n",
              "      <th>PAY_AMT5</th>\n",
              "      <th>PAY_AMT6</th>\n",
              "      <th>default payment next month</th>\n",
              "    </tr>\n",
              "  </thead>\n",
              "  <tbody>\n",
              "    <tr>\n",
              "      <th>0</th>\n",
              "      <td>1</td>\n",
              "      <td>20000</td>\n",
              "      <td>2</td>\n",
              "      <td>2</td>\n",
              "      <td>1</td>\n",
              "      <td>24</td>\n",
              "      <td>2</td>\n",
              "      <td>2</td>\n",
              "      <td>-1</td>\n",
              "      <td>-1</td>\n",
              "      <td>...</td>\n",
              "      <td>0</td>\n",
              "      <td>0</td>\n",
              "      <td>0</td>\n",
              "      <td>0</td>\n",
              "      <td>689</td>\n",
              "      <td>0</td>\n",
              "      <td>0</td>\n",
              "      <td>0</td>\n",
              "      <td>0</td>\n",
              "      <td>1</td>\n",
              "    </tr>\n",
              "    <tr>\n",
              "      <th>1</th>\n",
              "      <td>2</td>\n",
              "      <td>120000</td>\n",
              "      <td>2</td>\n",
              "      <td>2</td>\n",
              "      <td>2</td>\n",
              "      <td>26</td>\n",
              "      <td>-1</td>\n",
              "      <td>2</td>\n",
              "      <td>0</td>\n",
              "      <td>0</td>\n",
              "      <td>...</td>\n",
              "      <td>3272</td>\n",
              "      <td>3455</td>\n",
              "      <td>3261</td>\n",
              "      <td>0</td>\n",
              "      <td>1000</td>\n",
              "      <td>1000</td>\n",
              "      <td>1000</td>\n",
              "      <td>0</td>\n",
              "      <td>2000</td>\n",
              "      <td>1</td>\n",
              "    </tr>\n",
              "    <tr>\n",
              "      <th>2</th>\n",
              "      <td>3</td>\n",
              "      <td>90000</td>\n",
              "      <td>2</td>\n",
              "      <td>2</td>\n",
              "      <td>2</td>\n",
              "      <td>34</td>\n",
              "      <td>0</td>\n",
              "      <td>0</td>\n",
              "      <td>0</td>\n",
              "      <td>0</td>\n",
              "      <td>...</td>\n",
              "      <td>14331</td>\n",
              "      <td>14948</td>\n",
              "      <td>15549</td>\n",
              "      <td>1518</td>\n",
              "      <td>1500</td>\n",
              "      <td>1000</td>\n",
              "      <td>1000</td>\n",
              "      <td>1000</td>\n",
              "      <td>5000</td>\n",
              "      <td>0</td>\n",
              "    </tr>\n",
              "    <tr>\n",
              "      <th>3</th>\n",
              "      <td>4</td>\n",
              "      <td>50000</td>\n",
              "      <td>2</td>\n",
              "      <td>2</td>\n",
              "      <td>1</td>\n",
              "      <td>37</td>\n",
              "      <td>0</td>\n",
              "      <td>0</td>\n",
              "      <td>0</td>\n",
              "      <td>0</td>\n",
              "      <td>...</td>\n",
              "      <td>28314</td>\n",
              "      <td>28959</td>\n",
              "      <td>29547</td>\n",
              "      <td>2000</td>\n",
              "      <td>2019</td>\n",
              "      <td>1200</td>\n",
              "      <td>1100</td>\n",
              "      <td>1069</td>\n",
              "      <td>1000</td>\n",
              "      <td>0</td>\n",
              "    </tr>\n",
              "    <tr>\n",
              "      <th>4</th>\n",
              "      <td>5</td>\n",
              "      <td>50000</td>\n",
              "      <td>1</td>\n",
              "      <td>2</td>\n",
              "      <td>1</td>\n",
              "      <td>57</td>\n",
              "      <td>-1</td>\n",
              "      <td>0</td>\n",
              "      <td>-1</td>\n",
              "      <td>0</td>\n",
              "      <td>...</td>\n",
              "      <td>20940</td>\n",
              "      <td>19146</td>\n",
              "      <td>19131</td>\n",
              "      <td>2000</td>\n",
              "      <td>36681</td>\n",
              "      <td>10000</td>\n",
              "      <td>9000</td>\n",
              "      <td>689</td>\n",
              "      <td>679</td>\n",
              "      <td>0</td>\n",
              "    </tr>\n",
              "  </tbody>\n",
              "</table>\n",
              "<p>5 rows × 25 columns</p>\n",
              "</div>\n",
              "      <button class=\"colab-df-convert\" onclick=\"convertToInteractive('df-0ee67cdd-672e-469c-b6d7-6a339740b478')\"\n",
              "              title=\"Convert this dataframe to an interactive table.\"\n",
              "              style=\"display:none;\">\n",
              "        \n",
              "  <svg xmlns=\"http://www.w3.org/2000/svg\" height=\"24px\"viewBox=\"0 0 24 24\"\n",
              "       width=\"24px\">\n",
              "    <path d=\"M0 0h24v24H0V0z\" fill=\"none\"/>\n",
              "    <path d=\"M18.56 5.44l.94 2.06.94-2.06 2.06-.94-2.06-.94-.94-2.06-.94 2.06-2.06.94zm-11 1L8.5 8.5l.94-2.06 2.06-.94-2.06-.94L8.5 2.5l-.94 2.06-2.06.94zm10 10l.94 2.06.94-2.06 2.06-.94-2.06-.94-.94-2.06-.94 2.06-2.06.94z\"/><path d=\"M17.41 7.96l-1.37-1.37c-.4-.4-.92-.59-1.43-.59-.52 0-1.04.2-1.43.59L10.3 9.45l-7.72 7.72c-.78.78-.78 2.05 0 2.83L4 21.41c.39.39.9.59 1.41.59.51 0 1.02-.2 1.41-.59l7.78-7.78 2.81-2.81c.8-.78.8-2.07 0-2.86zM5.41 20L4 18.59l7.72-7.72 1.47 1.35L5.41 20z\"/>\n",
              "  </svg>\n",
              "      </button>\n",
              "      \n",
              "  <style>\n",
              "    .colab-df-container {\n",
              "      display:flex;\n",
              "      flex-wrap:wrap;\n",
              "      gap: 12px;\n",
              "    }\n",
              "\n",
              "    .colab-df-convert {\n",
              "      background-color: #E8F0FE;\n",
              "      border: none;\n",
              "      border-radius: 50%;\n",
              "      cursor: pointer;\n",
              "      display: none;\n",
              "      fill: #1967D2;\n",
              "      height: 32px;\n",
              "      padding: 0 0 0 0;\n",
              "      width: 32px;\n",
              "    }\n",
              "\n",
              "    .colab-df-convert:hover {\n",
              "      background-color: #E2EBFA;\n",
              "      box-shadow: 0px 1px 2px rgba(60, 64, 67, 0.3), 0px 1px 3px 1px rgba(60, 64, 67, 0.15);\n",
              "      fill: #174EA6;\n",
              "    }\n",
              "\n",
              "    [theme=dark] .colab-df-convert {\n",
              "      background-color: #3B4455;\n",
              "      fill: #D2E3FC;\n",
              "    }\n",
              "\n",
              "    [theme=dark] .colab-df-convert:hover {\n",
              "      background-color: #434B5C;\n",
              "      box-shadow: 0px 1px 3px 1px rgba(0, 0, 0, 0.15);\n",
              "      filter: drop-shadow(0px 1px 2px rgba(0, 0, 0, 0.3));\n",
              "      fill: #FFFFFF;\n",
              "    }\n",
              "  </style>\n",
              "\n",
              "      <script>\n",
              "        const buttonEl =\n",
              "          document.querySelector('#df-0ee67cdd-672e-469c-b6d7-6a339740b478 button.colab-df-convert');\n",
              "        buttonEl.style.display =\n",
              "          google.colab.kernel.accessAllowed ? 'block' : 'none';\n",
              "\n",
              "        async function convertToInteractive(key) {\n",
              "          const element = document.querySelector('#df-0ee67cdd-672e-469c-b6d7-6a339740b478');\n",
              "          const dataTable =\n",
              "            await google.colab.kernel.invokeFunction('convertToInteractive',\n",
              "                                                     [key], {});\n",
              "          if (!dataTable) return;\n",
              "\n",
              "          const docLinkHtml = 'Like what you see? Visit the ' +\n",
              "            '<a target=\"_blank\" href=https://colab.research.google.com/notebooks/data_table.ipynb>data table notebook</a>'\n",
              "            + ' to learn more about interactive tables.';\n",
              "          element.innerHTML = '';\n",
              "          dataTable['output_type'] = 'display_data';\n",
              "          await google.colab.output.renderOutput(dataTable, element);\n",
              "          const docLink = document.createElement('div');\n",
              "          docLink.innerHTML = docLinkHtml;\n",
              "          element.appendChild(docLink);\n",
              "        }\n",
              "      </script>\n",
              "    </div>\n",
              "  </div>\n",
              "  "
            ]
          },
          "metadata": {},
          "execution_count": 109
        }
      ]
    },
    {
      "cell_type": "code",
      "source": [
        "# Viewing the data of bottom 5 rows to take a glimps of the data\n",
        "credit_card_df.tail()"
      ],
      "metadata": {
        "colab": {
          "base_uri": "https://localhost:8080/",
          "height": 352
        },
        "id": "2m-z9SPyg4N7",
        "outputId": "46387da8-282e-4867-9a5c-36f5be98e07c"
      },
      "execution_count": 110,
      "outputs": [
        {
          "output_type": "execute_result",
          "data": {
            "text/plain": [
              "          ID  LIMIT_BAL  SEX  EDUCATION  MARRIAGE  AGE  PAY_0  PAY_2  PAY_3  \\\n",
              "29995  29996     220000    1          3         1   39      0      0      0   \n",
              "29996  29997     150000    1          3         2   43     -1     -1     -1   \n",
              "29997  29998      30000    1          2         2   37      4      3      2   \n",
              "29998  29999      80000    1          3         1   41      1     -1      0   \n",
              "29999  30000      50000    1          2         1   46      0      0      0   \n",
              "\n",
              "       PAY_4  ...  BILL_AMT4  BILL_AMT5  BILL_AMT6  PAY_AMT1  PAY_AMT2  \\\n",
              "29995      0  ...      88004      31237      15980      8500     20000   \n",
              "29996     -1  ...       8979       5190          0      1837      3526   \n",
              "29997     -1  ...      20878      20582      19357         0         0   \n",
              "29998      0  ...      52774      11855      48944     85900      3409   \n",
              "29999      0  ...      36535      32428      15313      2078      1800   \n",
              "\n",
              "       PAY_AMT3  PAY_AMT4  PAY_AMT5  PAY_AMT6  default payment next month  \n",
              "29995      5003      3047      5000      1000                           0  \n",
              "29996      8998       129         0         0                           0  \n",
              "29997     22000      4200      2000      3100                           1  \n",
              "29998      1178      1926     52964      1804                           1  \n",
              "29999      1430      1000      1000      1000                           1  \n",
              "\n",
              "[5 rows x 25 columns]"
            ],
            "text/html": [
              "\n",
              "  <div id=\"df-b248fbef-08c9-4bfa-9f7d-92075e094ad2\">\n",
              "    <div class=\"colab-df-container\">\n",
              "      <div>\n",
              "<style scoped>\n",
              "    .dataframe tbody tr th:only-of-type {\n",
              "        vertical-align: middle;\n",
              "    }\n",
              "\n",
              "    .dataframe tbody tr th {\n",
              "        vertical-align: top;\n",
              "    }\n",
              "\n",
              "    .dataframe thead th {\n",
              "        text-align: right;\n",
              "    }\n",
              "</style>\n",
              "<table border=\"1\" class=\"dataframe\">\n",
              "  <thead>\n",
              "    <tr style=\"text-align: right;\">\n",
              "      <th></th>\n",
              "      <th>ID</th>\n",
              "      <th>LIMIT_BAL</th>\n",
              "      <th>SEX</th>\n",
              "      <th>EDUCATION</th>\n",
              "      <th>MARRIAGE</th>\n",
              "      <th>AGE</th>\n",
              "      <th>PAY_0</th>\n",
              "      <th>PAY_2</th>\n",
              "      <th>PAY_3</th>\n",
              "      <th>PAY_4</th>\n",
              "      <th>...</th>\n",
              "      <th>BILL_AMT4</th>\n",
              "      <th>BILL_AMT5</th>\n",
              "      <th>BILL_AMT6</th>\n",
              "      <th>PAY_AMT1</th>\n",
              "      <th>PAY_AMT2</th>\n",
              "      <th>PAY_AMT3</th>\n",
              "      <th>PAY_AMT4</th>\n",
              "      <th>PAY_AMT5</th>\n",
              "      <th>PAY_AMT6</th>\n",
              "      <th>default payment next month</th>\n",
              "    </tr>\n",
              "  </thead>\n",
              "  <tbody>\n",
              "    <tr>\n",
              "      <th>29995</th>\n",
              "      <td>29996</td>\n",
              "      <td>220000</td>\n",
              "      <td>1</td>\n",
              "      <td>3</td>\n",
              "      <td>1</td>\n",
              "      <td>39</td>\n",
              "      <td>0</td>\n",
              "      <td>0</td>\n",
              "      <td>0</td>\n",
              "      <td>0</td>\n",
              "      <td>...</td>\n",
              "      <td>88004</td>\n",
              "      <td>31237</td>\n",
              "      <td>15980</td>\n",
              "      <td>8500</td>\n",
              "      <td>20000</td>\n",
              "      <td>5003</td>\n",
              "      <td>3047</td>\n",
              "      <td>5000</td>\n",
              "      <td>1000</td>\n",
              "      <td>0</td>\n",
              "    </tr>\n",
              "    <tr>\n",
              "      <th>29996</th>\n",
              "      <td>29997</td>\n",
              "      <td>150000</td>\n",
              "      <td>1</td>\n",
              "      <td>3</td>\n",
              "      <td>2</td>\n",
              "      <td>43</td>\n",
              "      <td>-1</td>\n",
              "      <td>-1</td>\n",
              "      <td>-1</td>\n",
              "      <td>-1</td>\n",
              "      <td>...</td>\n",
              "      <td>8979</td>\n",
              "      <td>5190</td>\n",
              "      <td>0</td>\n",
              "      <td>1837</td>\n",
              "      <td>3526</td>\n",
              "      <td>8998</td>\n",
              "      <td>129</td>\n",
              "      <td>0</td>\n",
              "      <td>0</td>\n",
              "      <td>0</td>\n",
              "    </tr>\n",
              "    <tr>\n",
              "      <th>29997</th>\n",
              "      <td>29998</td>\n",
              "      <td>30000</td>\n",
              "      <td>1</td>\n",
              "      <td>2</td>\n",
              "      <td>2</td>\n",
              "      <td>37</td>\n",
              "      <td>4</td>\n",
              "      <td>3</td>\n",
              "      <td>2</td>\n",
              "      <td>-1</td>\n",
              "      <td>...</td>\n",
              "      <td>20878</td>\n",
              "      <td>20582</td>\n",
              "      <td>19357</td>\n",
              "      <td>0</td>\n",
              "      <td>0</td>\n",
              "      <td>22000</td>\n",
              "      <td>4200</td>\n",
              "      <td>2000</td>\n",
              "      <td>3100</td>\n",
              "      <td>1</td>\n",
              "    </tr>\n",
              "    <tr>\n",
              "      <th>29998</th>\n",
              "      <td>29999</td>\n",
              "      <td>80000</td>\n",
              "      <td>1</td>\n",
              "      <td>3</td>\n",
              "      <td>1</td>\n",
              "      <td>41</td>\n",
              "      <td>1</td>\n",
              "      <td>-1</td>\n",
              "      <td>0</td>\n",
              "      <td>0</td>\n",
              "      <td>...</td>\n",
              "      <td>52774</td>\n",
              "      <td>11855</td>\n",
              "      <td>48944</td>\n",
              "      <td>85900</td>\n",
              "      <td>3409</td>\n",
              "      <td>1178</td>\n",
              "      <td>1926</td>\n",
              "      <td>52964</td>\n",
              "      <td>1804</td>\n",
              "      <td>1</td>\n",
              "    </tr>\n",
              "    <tr>\n",
              "      <th>29999</th>\n",
              "      <td>30000</td>\n",
              "      <td>50000</td>\n",
              "      <td>1</td>\n",
              "      <td>2</td>\n",
              "      <td>1</td>\n",
              "      <td>46</td>\n",
              "      <td>0</td>\n",
              "      <td>0</td>\n",
              "      <td>0</td>\n",
              "      <td>0</td>\n",
              "      <td>...</td>\n",
              "      <td>36535</td>\n",
              "      <td>32428</td>\n",
              "      <td>15313</td>\n",
              "      <td>2078</td>\n",
              "      <td>1800</td>\n",
              "      <td>1430</td>\n",
              "      <td>1000</td>\n",
              "      <td>1000</td>\n",
              "      <td>1000</td>\n",
              "      <td>1</td>\n",
              "    </tr>\n",
              "  </tbody>\n",
              "</table>\n",
              "<p>5 rows × 25 columns</p>\n",
              "</div>\n",
              "      <button class=\"colab-df-convert\" onclick=\"convertToInteractive('df-b248fbef-08c9-4bfa-9f7d-92075e094ad2')\"\n",
              "              title=\"Convert this dataframe to an interactive table.\"\n",
              "              style=\"display:none;\">\n",
              "        \n",
              "  <svg xmlns=\"http://www.w3.org/2000/svg\" height=\"24px\"viewBox=\"0 0 24 24\"\n",
              "       width=\"24px\">\n",
              "    <path d=\"M0 0h24v24H0V0z\" fill=\"none\"/>\n",
              "    <path d=\"M18.56 5.44l.94 2.06.94-2.06 2.06-.94-2.06-.94-.94-2.06-.94 2.06-2.06.94zm-11 1L8.5 8.5l.94-2.06 2.06-.94-2.06-.94L8.5 2.5l-.94 2.06-2.06.94zm10 10l.94 2.06.94-2.06 2.06-.94-2.06-.94-.94-2.06-.94 2.06-2.06.94z\"/><path d=\"M17.41 7.96l-1.37-1.37c-.4-.4-.92-.59-1.43-.59-.52 0-1.04.2-1.43.59L10.3 9.45l-7.72 7.72c-.78.78-.78 2.05 0 2.83L4 21.41c.39.39.9.59 1.41.59.51 0 1.02-.2 1.41-.59l7.78-7.78 2.81-2.81c.8-.78.8-2.07 0-2.86zM5.41 20L4 18.59l7.72-7.72 1.47 1.35L5.41 20z\"/>\n",
              "  </svg>\n",
              "      </button>\n",
              "      \n",
              "  <style>\n",
              "    .colab-df-container {\n",
              "      display:flex;\n",
              "      flex-wrap:wrap;\n",
              "      gap: 12px;\n",
              "    }\n",
              "\n",
              "    .colab-df-convert {\n",
              "      background-color: #E8F0FE;\n",
              "      border: none;\n",
              "      border-radius: 50%;\n",
              "      cursor: pointer;\n",
              "      display: none;\n",
              "      fill: #1967D2;\n",
              "      height: 32px;\n",
              "      padding: 0 0 0 0;\n",
              "      width: 32px;\n",
              "    }\n",
              "\n",
              "    .colab-df-convert:hover {\n",
              "      background-color: #E2EBFA;\n",
              "      box-shadow: 0px 1px 2px rgba(60, 64, 67, 0.3), 0px 1px 3px 1px rgba(60, 64, 67, 0.15);\n",
              "      fill: #174EA6;\n",
              "    }\n",
              "\n",
              "    [theme=dark] .colab-df-convert {\n",
              "      background-color: #3B4455;\n",
              "      fill: #D2E3FC;\n",
              "    }\n",
              "\n",
              "    [theme=dark] .colab-df-convert:hover {\n",
              "      background-color: #434B5C;\n",
              "      box-shadow: 0px 1px 3px 1px rgba(0, 0, 0, 0.15);\n",
              "      filter: drop-shadow(0px 1px 2px rgba(0, 0, 0, 0.3));\n",
              "      fill: #FFFFFF;\n",
              "    }\n",
              "  </style>\n",
              "\n",
              "      <script>\n",
              "        const buttonEl =\n",
              "          document.querySelector('#df-b248fbef-08c9-4bfa-9f7d-92075e094ad2 button.colab-df-convert');\n",
              "        buttonEl.style.display =\n",
              "          google.colab.kernel.accessAllowed ? 'block' : 'none';\n",
              "\n",
              "        async function convertToInteractive(key) {\n",
              "          const element = document.querySelector('#df-b248fbef-08c9-4bfa-9f7d-92075e094ad2');\n",
              "          const dataTable =\n",
              "            await google.colab.kernel.invokeFunction('convertToInteractive',\n",
              "                                                     [key], {});\n",
              "          if (!dataTable) return;\n",
              "\n",
              "          const docLinkHtml = 'Like what you see? Visit the ' +\n",
              "            '<a target=\"_blank\" href=https://colab.research.google.com/notebooks/data_table.ipynb>data table notebook</a>'\n",
              "            + ' to learn more about interactive tables.';\n",
              "          element.innerHTML = '';\n",
              "          dataTable['output_type'] = 'display_data';\n",
              "          await google.colab.output.renderOutput(dataTable, element);\n",
              "          const docLink = document.createElement('div');\n",
              "          docLink.innerHTML = docLinkHtml;\n",
              "          element.appendChild(docLink);\n",
              "        }\n",
              "      </script>\n",
              "    </div>\n",
              "  </div>\n",
              "  "
            ]
          },
          "metadata": {},
          "execution_count": 110
        }
      ]
    },
    {
      "cell_type": "code",
      "source": [
        "# Shape of the Dataset\n",
        "credit_card_df.shape"
      ],
      "metadata": {
        "colab": {
          "base_uri": "https://localhost:8080/"
        },
        "id": "i7SrOsL5g76_",
        "outputId": "9a0e85d5-45ce-4f11-a752-369c7409be13"
      },
      "execution_count": 111,
      "outputs": [
        {
          "output_type": "execute_result",
          "data": {
            "text/plain": [
              "(30000, 25)"
            ]
          },
          "metadata": {},
          "execution_count": 111
        }
      ]
    },
    {
      "cell_type": "code",
      "source": [
        "# All column Names\n",
        "print('Features of the Dataset:')\n",
        "credit_card_df.columns"
      ],
      "metadata": {
        "colab": {
          "base_uri": "https://localhost:8080/"
        },
        "id": "mZXQnNlwhOEh",
        "outputId": "874e1840-4879-4fe7-91aa-587433b0aede"
      },
      "execution_count": 112,
      "outputs": [
        {
          "output_type": "stream",
          "name": "stdout",
          "text": [
            "Features of the Dataset:\n"
          ]
        },
        {
          "output_type": "execute_result",
          "data": {
            "text/plain": [
              "Index(['ID', 'LIMIT_BAL', 'SEX', 'EDUCATION', 'MARRIAGE', 'AGE', 'PAY_0',\n",
              "       'PAY_2', 'PAY_3', 'PAY_4', 'PAY_5', 'PAY_6', 'BILL_AMT1', 'BILL_AMT2',\n",
              "       'BILL_AMT3', 'BILL_AMT4', 'BILL_AMT5', 'BILL_AMT6', 'PAY_AMT1',\n",
              "       'PAY_AMT2', 'PAY_AMT3', 'PAY_AMT4', 'PAY_AMT5', 'PAY_AMT6',\n",
              "       'default payment next month'],\n",
              "      dtype='object')"
            ]
          },
          "metadata": {},
          "execution_count": 112
        }
      ]
    },
    {
      "cell_type": "code",
      "source": [
        "# Create a copy of dataset\n",
        "credit_df=credit_card_df.copy()"
      ],
      "metadata": {
        "id": "j8bBn3Eyiy0T"
      },
      "execution_count": 113,
      "outputs": []
    },
    {
      "cell_type": "code",
      "source": [
        "# Checking the copy created\n",
        "credit_df.head()"
      ],
      "metadata": {
        "colab": {
          "base_uri": "https://localhost:8080/",
          "height": 314
        },
        "id": "2cDypnSAjIo8",
        "outputId": "dc6df117-a603-4024-dbee-87b6005a53f1"
      },
      "execution_count": 114,
      "outputs": [
        {
          "output_type": "execute_result",
          "data": {
            "text/plain": [
              "   ID  LIMIT_BAL  SEX  EDUCATION  MARRIAGE  AGE  PAY_0  PAY_2  PAY_3  PAY_4  \\\n",
              "0   1      20000    2          2         1   24      2      2     -1     -1   \n",
              "1   2     120000    2          2         2   26     -1      2      0      0   \n",
              "2   3      90000    2          2         2   34      0      0      0      0   \n",
              "3   4      50000    2          2         1   37      0      0      0      0   \n",
              "4   5      50000    1          2         1   57     -1      0     -1      0   \n",
              "\n",
              "   ...  BILL_AMT4  BILL_AMT5  BILL_AMT6  PAY_AMT1  PAY_AMT2  PAY_AMT3  \\\n",
              "0  ...          0          0          0         0       689         0   \n",
              "1  ...       3272       3455       3261         0      1000      1000   \n",
              "2  ...      14331      14948      15549      1518      1500      1000   \n",
              "3  ...      28314      28959      29547      2000      2019      1200   \n",
              "4  ...      20940      19146      19131      2000     36681     10000   \n",
              "\n",
              "   PAY_AMT4  PAY_AMT5  PAY_AMT6  default payment next month  \n",
              "0         0         0         0                           1  \n",
              "1      1000         0      2000                           1  \n",
              "2      1000      1000      5000                           0  \n",
              "3      1100      1069      1000                           0  \n",
              "4      9000       689       679                           0  \n",
              "\n",
              "[5 rows x 25 columns]"
            ],
            "text/html": [
              "\n",
              "  <div id=\"df-ea1dee4f-9e12-4812-b30d-53516a9e4a79\">\n",
              "    <div class=\"colab-df-container\">\n",
              "      <div>\n",
              "<style scoped>\n",
              "    .dataframe tbody tr th:only-of-type {\n",
              "        vertical-align: middle;\n",
              "    }\n",
              "\n",
              "    .dataframe tbody tr th {\n",
              "        vertical-align: top;\n",
              "    }\n",
              "\n",
              "    .dataframe thead th {\n",
              "        text-align: right;\n",
              "    }\n",
              "</style>\n",
              "<table border=\"1\" class=\"dataframe\">\n",
              "  <thead>\n",
              "    <tr style=\"text-align: right;\">\n",
              "      <th></th>\n",
              "      <th>ID</th>\n",
              "      <th>LIMIT_BAL</th>\n",
              "      <th>SEX</th>\n",
              "      <th>EDUCATION</th>\n",
              "      <th>MARRIAGE</th>\n",
              "      <th>AGE</th>\n",
              "      <th>PAY_0</th>\n",
              "      <th>PAY_2</th>\n",
              "      <th>PAY_3</th>\n",
              "      <th>PAY_4</th>\n",
              "      <th>...</th>\n",
              "      <th>BILL_AMT4</th>\n",
              "      <th>BILL_AMT5</th>\n",
              "      <th>BILL_AMT6</th>\n",
              "      <th>PAY_AMT1</th>\n",
              "      <th>PAY_AMT2</th>\n",
              "      <th>PAY_AMT3</th>\n",
              "      <th>PAY_AMT4</th>\n",
              "      <th>PAY_AMT5</th>\n",
              "      <th>PAY_AMT6</th>\n",
              "      <th>default payment next month</th>\n",
              "    </tr>\n",
              "  </thead>\n",
              "  <tbody>\n",
              "    <tr>\n",
              "      <th>0</th>\n",
              "      <td>1</td>\n",
              "      <td>20000</td>\n",
              "      <td>2</td>\n",
              "      <td>2</td>\n",
              "      <td>1</td>\n",
              "      <td>24</td>\n",
              "      <td>2</td>\n",
              "      <td>2</td>\n",
              "      <td>-1</td>\n",
              "      <td>-1</td>\n",
              "      <td>...</td>\n",
              "      <td>0</td>\n",
              "      <td>0</td>\n",
              "      <td>0</td>\n",
              "      <td>0</td>\n",
              "      <td>689</td>\n",
              "      <td>0</td>\n",
              "      <td>0</td>\n",
              "      <td>0</td>\n",
              "      <td>0</td>\n",
              "      <td>1</td>\n",
              "    </tr>\n",
              "    <tr>\n",
              "      <th>1</th>\n",
              "      <td>2</td>\n",
              "      <td>120000</td>\n",
              "      <td>2</td>\n",
              "      <td>2</td>\n",
              "      <td>2</td>\n",
              "      <td>26</td>\n",
              "      <td>-1</td>\n",
              "      <td>2</td>\n",
              "      <td>0</td>\n",
              "      <td>0</td>\n",
              "      <td>...</td>\n",
              "      <td>3272</td>\n",
              "      <td>3455</td>\n",
              "      <td>3261</td>\n",
              "      <td>0</td>\n",
              "      <td>1000</td>\n",
              "      <td>1000</td>\n",
              "      <td>1000</td>\n",
              "      <td>0</td>\n",
              "      <td>2000</td>\n",
              "      <td>1</td>\n",
              "    </tr>\n",
              "    <tr>\n",
              "      <th>2</th>\n",
              "      <td>3</td>\n",
              "      <td>90000</td>\n",
              "      <td>2</td>\n",
              "      <td>2</td>\n",
              "      <td>2</td>\n",
              "      <td>34</td>\n",
              "      <td>0</td>\n",
              "      <td>0</td>\n",
              "      <td>0</td>\n",
              "      <td>0</td>\n",
              "      <td>...</td>\n",
              "      <td>14331</td>\n",
              "      <td>14948</td>\n",
              "      <td>15549</td>\n",
              "      <td>1518</td>\n",
              "      <td>1500</td>\n",
              "      <td>1000</td>\n",
              "      <td>1000</td>\n",
              "      <td>1000</td>\n",
              "      <td>5000</td>\n",
              "      <td>0</td>\n",
              "    </tr>\n",
              "    <tr>\n",
              "      <th>3</th>\n",
              "      <td>4</td>\n",
              "      <td>50000</td>\n",
              "      <td>2</td>\n",
              "      <td>2</td>\n",
              "      <td>1</td>\n",
              "      <td>37</td>\n",
              "      <td>0</td>\n",
              "      <td>0</td>\n",
              "      <td>0</td>\n",
              "      <td>0</td>\n",
              "      <td>...</td>\n",
              "      <td>28314</td>\n",
              "      <td>28959</td>\n",
              "      <td>29547</td>\n",
              "      <td>2000</td>\n",
              "      <td>2019</td>\n",
              "      <td>1200</td>\n",
              "      <td>1100</td>\n",
              "      <td>1069</td>\n",
              "      <td>1000</td>\n",
              "      <td>0</td>\n",
              "    </tr>\n",
              "    <tr>\n",
              "      <th>4</th>\n",
              "      <td>5</td>\n",
              "      <td>50000</td>\n",
              "      <td>1</td>\n",
              "      <td>2</td>\n",
              "      <td>1</td>\n",
              "      <td>57</td>\n",
              "      <td>-1</td>\n",
              "      <td>0</td>\n",
              "      <td>-1</td>\n",
              "      <td>0</td>\n",
              "      <td>...</td>\n",
              "      <td>20940</td>\n",
              "      <td>19146</td>\n",
              "      <td>19131</td>\n",
              "      <td>2000</td>\n",
              "      <td>36681</td>\n",
              "      <td>10000</td>\n",
              "      <td>9000</td>\n",
              "      <td>689</td>\n",
              "      <td>679</td>\n",
              "      <td>0</td>\n",
              "    </tr>\n",
              "  </tbody>\n",
              "</table>\n",
              "<p>5 rows × 25 columns</p>\n",
              "</div>\n",
              "      <button class=\"colab-df-convert\" onclick=\"convertToInteractive('df-ea1dee4f-9e12-4812-b30d-53516a9e4a79')\"\n",
              "              title=\"Convert this dataframe to an interactive table.\"\n",
              "              style=\"display:none;\">\n",
              "        \n",
              "  <svg xmlns=\"http://www.w3.org/2000/svg\" height=\"24px\"viewBox=\"0 0 24 24\"\n",
              "       width=\"24px\">\n",
              "    <path d=\"M0 0h24v24H0V0z\" fill=\"none\"/>\n",
              "    <path d=\"M18.56 5.44l.94 2.06.94-2.06 2.06-.94-2.06-.94-.94-2.06-.94 2.06-2.06.94zm-11 1L8.5 8.5l.94-2.06 2.06-.94-2.06-.94L8.5 2.5l-.94 2.06-2.06.94zm10 10l.94 2.06.94-2.06 2.06-.94-2.06-.94-.94-2.06-.94 2.06-2.06.94z\"/><path d=\"M17.41 7.96l-1.37-1.37c-.4-.4-.92-.59-1.43-.59-.52 0-1.04.2-1.43.59L10.3 9.45l-7.72 7.72c-.78.78-.78 2.05 0 2.83L4 21.41c.39.39.9.59 1.41.59.51 0 1.02-.2 1.41-.59l7.78-7.78 2.81-2.81c.8-.78.8-2.07 0-2.86zM5.41 20L4 18.59l7.72-7.72 1.47 1.35L5.41 20z\"/>\n",
              "  </svg>\n",
              "      </button>\n",
              "      \n",
              "  <style>\n",
              "    .colab-df-container {\n",
              "      display:flex;\n",
              "      flex-wrap:wrap;\n",
              "      gap: 12px;\n",
              "    }\n",
              "\n",
              "    .colab-df-convert {\n",
              "      background-color: #E8F0FE;\n",
              "      border: none;\n",
              "      border-radius: 50%;\n",
              "      cursor: pointer;\n",
              "      display: none;\n",
              "      fill: #1967D2;\n",
              "      height: 32px;\n",
              "      padding: 0 0 0 0;\n",
              "      width: 32px;\n",
              "    }\n",
              "\n",
              "    .colab-df-convert:hover {\n",
              "      background-color: #E2EBFA;\n",
              "      box-shadow: 0px 1px 2px rgba(60, 64, 67, 0.3), 0px 1px 3px 1px rgba(60, 64, 67, 0.15);\n",
              "      fill: #174EA6;\n",
              "    }\n",
              "\n",
              "    [theme=dark] .colab-df-convert {\n",
              "      background-color: #3B4455;\n",
              "      fill: #D2E3FC;\n",
              "    }\n",
              "\n",
              "    [theme=dark] .colab-df-convert:hover {\n",
              "      background-color: #434B5C;\n",
              "      box-shadow: 0px 1px 3px 1px rgba(0, 0, 0, 0.15);\n",
              "      filter: drop-shadow(0px 1px 2px rgba(0, 0, 0, 0.3));\n",
              "      fill: #FFFFFF;\n",
              "    }\n",
              "  </style>\n",
              "\n",
              "      <script>\n",
              "        const buttonEl =\n",
              "          document.querySelector('#df-ea1dee4f-9e12-4812-b30d-53516a9e4a79 button.colab-df-convert');\n",
              "        buttonEl.style.display =\n",
              "          google.colab.kernel.accessAllowed ? 'block' : 'none';\n",
              "\n",
              "        async function convertToInteractive(key) {\n",
              "          const element = document.querySelector('#df-ea1dee4f-9e12-4812-b30d-53516a9e4a79');\n",
              "          const dataTable =\n",
              "            await google.colab.kernel.invokeFunction('convertToInteractive',\n",
              "                                                     [key], {});\n",
              "          if (!dataTable) return;\n",
              "\n",
              "          const docLinkHtml = 'Like what you see? Visit the ' +\n",
              "            '<a target=\"_blank\" href=https://colab.research.google.com/notebooks/data_table.ipynb>data table notebook</a>'\n",
              "            + ' to learn more about interactive tables.';\n",
              "          element.innerHTML = '';\n",
              "          dataTable['output_type'] = 'display_data';\n",
              "          await google.colab.output.renderOutput(dataTable, element);\n",
              "          const docLink = document.createElement('div');\n",
              "          docLink.innerHTML = docLinkHtml;\n",
              "          element.appendChild(docLink);\n",
              "        }\n",
              "      </script>\n",
              "    </div>\n",
              "  </div>\n",
              "  "
            ]
          },
          "metadata": {},
          "execution_count": 114
        }
      ]
    },
    {
      "cell_type": "code",
      "source": [
        "# Deatails about the dataset\n",
        "credit_df.info()"
      ],
      "metadata": {
        "colab": {
          "base_uri": "https://localhost:8080/"
        },
        "id": "SEKN-rVXjkEF",
        "outputId": "8698f627-6d55-4244-bf43-ea491f61e658"
      },
      "execution_count": 115,
      "outputs": [
        {
          "output_type": "stream",
          "name": "stdout",
          "text": [
            "<class 'pandas.core.frame.DataFrame'>\n",
            "RangeIndex: 30000 entries, 0 to 29999\n",
            "Data columns (total 25 columns):\n",
            " #   Column                      Non-Null Count  Dtype\n",
            "---  ------                      --------------  -----\n",
            " 0   ID                          30000 non-null  int64\n",
            " 1   LIMIT_BAL                   30000 non-null  int64\n",
            " 2   SEX                         30000 non-null  int64\n",
            " 3   EDUCATION                   30000 non-null  int64\n",
            " 4   MARRIAGE                    30000 non-null  int64\n",
            " 5   AGE                         30000 non-null  int64\n",
            " 6   PAY_0                       30000 non-null  int64\n",
            " 7   PAY_2                       30000 non-null  int64\n",
            " 8   PAY_3                       30000 non-null  int64\n",
            " 9   PAY_4                       30000 non-null  int64\n",
            " 10  PAY_5                       30000 non-null  int64\n",
            " 11  PAY_6                       30000 non-null  int64\n",
            " 12  BILL_AMT1                   30000 non-null  int64\n",
            " 13  BILL_AMT2                   30000 non-null  int64\n",
            " 14  BILL_AMT3                   30000 non-null  int64\n",
            " 15  BILL_AMT4                   30000 non-null  int64\n",
            " 16  BILL_AMT5                   30000 non-null  int64\n",
            " 17  BILL_AMT6                   30000 non-null  int64\n",
            " 18  PAY_AMT1                    30000 non-null  int64\n",
            " 19  PAY_AMT2                    30000 non-null  int64\n",
            " 20  PAY_AMT3                    30000 non-null  int64\n",
            " 21  PAY_AMT4                    30000 non-null  int64\n",
            " 22  PAY_AMT5                    30000 non-null  int64\n",
            " 23  PAY_AMT6                    30000 non-null  int64\n",
            " 24  default payment next month  30000 non-null  int64\n",
            "dtypes: int64(25)\n",
            "memory usage: 5.7 MB\n"
          ]
        }
      ]
    },
    {
      "cell_type": "code",
      "source": [
        "# To know the unique values in the Dataset\n",
        "credit_df.nunique()"
      ],
      "metadata": {
        "colab": {
          "base_uri": "https://localhost:8080/"
        },
        "id": "GU5gDX0NoTxU",
        "outputId": "7619a7fc-a753-4dc8-a529-6d310007e21a"
      },
      "execution_count": 116,
      "outputs": [
        {
          "output_type": "execute_result",
          "data": {
            "text/plain": [
              "ID                            30000\n",
              "LIMIT_BAL                        81\n",
              "SEX                               2\n",
              "EDUCATION                         7\n",
              "MARRIAGE                          4\n",
              "AGE                              56\n",
              "PAY_0                            11\n",
              "PAY_2                            11\n",
              "PAY_3                            11\n",
              "PAY_4                            11\n",
              "PAY_5                            10\n",
              "PAY_6                            10\n",
              "BILL_AMT1                     22723\n",
              "BILL_AMT2                     22346\n",
              "BILL_AMT3                     22026\n",
              "BILL_AMT4                     21548\n",
              "BILL_AMT5                     21010\n",
              "BILL_AMT6                     20604\n",
              "PAY_AMT1                       7943\n",
              "PAY_AMT2                       7899\n",
              "PAY_AMT3                       7518\n",
              "PAY_AMT4                       6937\n",
              "PAY_AMT5                       6897\n",
              "PAY_AMT6                       6939\n",
              "default payment next month        2\n",
              "dtype: int64"
            ]
          },
          "metadata": {},
          "execution_count": 116
        }
      ]
    },
    {
      "cell_type": "code",
      "source": [
        "# Description of the Dataset to know the insights of the Dataset\n",
        "credit_df.describe().T"
      ],
      "metadata": {
        "colab": {
          "base_uri": "https://localhost:8080/",
          "height": 833
        },
        "id": "cifOv4kxonnQ",
        "outputId": "7fbd89c3-2b6b-4789-9390-6d2dd34d75bf"
      },
      "execution_count": 117,
      "outputs": [
        {
          "output_type": "execute_result",
          "data": {
            "text/plain": [
              "                              count           mean            std       min  \\\n",
              "ID                          30000.0   15000.500000    8660.398374       1.0   \n",
              "LIMIT_BAL                   30000.0  167484.322667  129747.661567   10000.0   \n",
              "SEX                         30000.0       1.603733       0.489129       1.0   \n",
              "EDUCATION                   30000.0       1.853133       0.790349       0.0   \n",
              "MARRIAGE                    30000.0       1.551867       0.521970       0.0   \n",
              "AGE                         30000.0      35.485500       9.217904      21.0   \n",
              "PAY_0                       30000.0      -0.016700       1.123802      -2.0   \n",
              "PAY_2                       30000.0      -0.133767       1.197186      -2.0   \n",
              "PAY_3                       30000.0      -0.166200       1.196868      -2.0   \n",
              "PAY_4                       30000.0      -0.220667       1.169139      -2.0   \n",
              "PAY_5                       30000.0      -0.266200       1.133187      -2.0   \n",
              "PAY_6                       30000.0      -0.291100       1.149988      -2.0   \n",
              "BILL_AMT1                   30000.0   51223.330900   73635.860576 -165580.0   \n",
              "BILL_AMT2                   30000.0   49179.075167   71173.768783  -69777.0   \n",
              "BILL_AMT3                   30000.0   47013.154800   69349.387427 -157264.0   \n",
              "BILL_AMT4                   30000.0   43262.948967   64332.856134 -170000.0   \n",
              "BILL_AMT5                   30000.0   40311.400967   60797.155770  -81334.0   \n",
              "BILL_AMT6                   30000.0   38871.760400   59554.107537 -339603.0   \n",
              "PAY_AMT1                    30000.0    5663.580500   16563.280354       0.0   \n",
              "PAY_AMT2                    30000.0    5921.163500   23040.870402       0.0   \n",
              "PAY_AMT3                    30000.0    5225.681500   17606.961470       0.0   \n",
              "PAY_AMT4                    30000.0    4826.076867   15666.159744       0.0   \n",
              "PAY_AMT5                    30000.0    4799.387633   15278.305679       0.0   \n",
              "PAY_AMT6                    30000.0    5215.502567   17777.465775       0.0   \n",
              "default payment next month  30000.0       0.221200       0.415062       0.0   \n",
              "\n",
              "                                 25%       50%        75%        max  \n",
              "ID                           7500.75   15000.5   22500.25    30000.0  \n",
              "LIMIT_BAL                   50000.00  140000.0  240000.00  1000000.0  \n",
              "SEX                             1.00       2.0       2.00        2.0  \n",
              "EDUCATION                       1.00       2.0       2.00        6.0  \n",
              "MARRIAGE                        1.00       2.0       2.00        3.0  \n",
              "AGE                            28.00      34.0      41.00       79.0  \n",
              "PAY_0                          -1.00       0.0       0.00        8.0  \n",
              "PAY_2                          -1.00       0.0       0.00        8.0  \n",
              "PAY_3                          -1.00       0.0       0.00        8.0  \n",
              "PAY_4                          -1.00       0.0       0.00        8.0  \n",
              "PAY_5                          -1.00       0.0       0.00        8.0  \n",
              "PAY_6                          -1.00       0.0       0.00        8.0  \n",
              "BILL_AMT1                    3558.75   22381.5   67091.00   964511.0  \n",
              "BILL_AMT2                    2984.75   21200.0   64006.25   983931.0  \n",
              "BILL_AMT3                    2666.25   20088.5   60164.75  1664089.0  \n",
              "BILL_AMT4                    2326.75   19052.0   54506.00   891586.0  \n",
              "BILL_AMT5                    1763.00   18104.5   50190.50   927171.0  \n",
              "BILL_AMT6                    1256.00   17071.0   49198.25   961664.0  \n",
              "PAY_AMT1                     1000.00    2100.0    5006.00   873552.0  \n",
              "PAY_AMT2                      833.00    2009.0    5000.00  1684259.0  \n",
              "PAY_AMT3                      390.00    1800.0    4505.00   896040.0  \n",
              "PAY_AMT4                      296.00    1500.0    4013.25   621000.0  \n",
              "PAY_AMT5                      252.50    1500.0    4031.50   426529.0  \n",
              "PAY_AMT6                      117.75    1500.0    4000.00   528666.0  \n",
              "default payment next month      0.00       0.0       0.00        1.0  "
            ],
            "text/html": [
              "\n",
              "  <div id=\"df-9c7d0b4e-78f5-495c-b7e0-1b47eb05e6bf\">\n",
              "    <div class=\"colab-df-container\">\n",
              "      <div>\n",
              "<style scoped>\n",
              "    .dataframe tbody tr th:only-of-type {\n",
              "        vertical-align: middle;\n",
              "    }\n",
              "\n",
              "    .dataframe tbody tr th {\n",
              "        vertical-align: top;\n",
              "    }\n",
              "\n",
              "    .dataframe thead th {\n",
              "        text-align: right;\n",
              "    }\n",
              "</style>\n",
              "<table border=\"1\" class=\"dataframe\">\n",
              "  <thead>\n",
              "    <tr style=\"text-align: right;\">\n",
              "      <th></th>\n",
              "      <th>count</th>\n",
              "      <th>mean</th>\n",
              "      <th>std</th>\n",
              "      <th>min</th>\n",
              "      <th>25%</th>\n",
              "      <th>50%</th>\n",
              "      <th>75%</th>\n",
              "      <th>max</th>\n",
              "    </tr>\n",
              "  </thead>\n",
              "  <tbody>\n",
              "    <tr>\n",
              "      <th>ID</th>\n",
              "      <td>30000.0</td>\n",
              "      <td>15000.500000</td>\n",
              "      <td>8660.398374</td>\n",
              "      <td>1.0</td>\n",
              "      <td>7500.75</td>\n",
              "      <td>15000.5</td>\n",
              "      <td>22500.25</td>\n",
              "      <td>30000.0</td>\n",
              "    </tr>\n",
              "    <tr>\n",
              "      <th>LIMIT_BAL</th>\n",
              "      <td>30000.0</td>\n",
              "      <td>167484.322667</td>\n",
              "      <td>129747.661567</td>\n",
              "      <td>10000.0</td>\n",
              "      <td>50000.00</td>\n",
              "      <td>140000.0</td>\n",
              "      <td>240000.00</td>\n",
              "      <td>1000000.0</td>\n",
              "    </tr>\n",
              "    <tr>\n",
              "      <th>SEX</th>\n",
              "      <td>30000.0</td>\n",
              "      <td>1.603733</td>\n",
              "      <td>0.489129</td>\n",
              "      <td>1.0</td>\n",
              "      <td>1.00</td>\n",
              "      <td>2.0</td>\n",
              "      <td>2.00</td>\n",
              "      <td>2.0</td>\n",
              "    </tr>\n",
              "    <tr>\n",
              "      <th>EDUCATION</th>\n",
              "      <td>30000.0</td>\n",
              "      <td>1.853133</td>\n",
              "      <td>0.790349</td>\n",
              "      <td>0.0</td>\n",
              "      <td>1.00</td>\n",
              "      <td>2.0</td>\n",
              "      <td>2.00</td>\n",
              "      <td>6.0</td>\n",
              "    </tr>\n",
              "    <tr>\n",
              "      <th>MARRIAGE</th>\n",
              "      <td>30000.0</td>\n",
              "      <td>1.551867</td>\n",
              "      <td>0.521970</td>\n",
              "      <td>0.0</td>\n",
              "      <td>1.00</td>\n",
              "      <td>2.0</td>\n",
              "      <td>2.00</td>\n",
              "      <td>3.0</td>\n",
              "    </tr>\n",
              "    <tr>\n",
              "      <th>AGE</th>\n",
              "      <td>30000.0</td>\n",
              "      <td>35.485500</td>\n",
              "      <td>9.217904</td>\n",
              "      <td>21.0</td>\n",
              "      <td>28.00</td>\n",
              "      <td>34.0</td>\n",
              "      <td>41.00</td>\n",
              "      <td>79.0</td>\n",
              "    </tr>\n",
              "    <tr>\n",
              "      <th>PAY_0</th>\n",
              "      <td>30000.0</td>\n",
              "      <td>-0.016700</td>\n",
              "      <td>1.123802</td>\n",
              "      <td>-2.0</td>\n",
              "      <td>-1.00</td>\n",
              "      <td>0.0</td>\n",
              "      <td>0.00</td>\n",
              "      <td>8.0</td>\n",
              "    </tr>\n",
              "    <tr>\n",
              "      <th>PAY_2</th>\n",
              "      <td>30000.0</td>\n",
              "      <td>-0.133767</td>\n",
              "      <td>1.197186</td>\n",
              "      <td>-2.0</td>\n",
              "      <td>-1.00</td>\n",
              "      <td>0.0</td>\n",
              "      <td>0.00</td>\n",
              "      <td>8.0</td>\n",
              "    </tr>\n",
              "    <tr>\n",
              "      <th>PAY_3</th>\n",
              "      <td>30000.0</td>\n",
              "      <td>-0.166200</td>\n",
              "      <td>1.196868</td>\n",
              "      <td>-2.0</td>\n",
              "      <td>-1.00</td>\n",
              "      <td>0.0</td>\n",
              "      <td>0.00</td>\n",
              "      <td>8.0</td>\n",
              "    </tr>\n",
              "    <tr>\n",
              "      <th>PAY_4</th>\n",
              "      <td>30000.0</td>\n",
              "      <td>-0.220667</td>\n",
              "      <td>1.169139</td>\n",
              "      <td>-2.0</td>\n",
              "      <td>-1.00</td>\n",
              "      <td>0.0</td>\n",
              "      <td>0.00</td>\n",
              "      <td>8.0</td>\n",
              "    </tr>\n",
              "    <tr>\n",
              "      <th>PAY_5</th>\n",
              "      <td>30000.0</td>\n",
              "      <td>-0.266200</td>\n",
              "      <td>1.133187</td>\n",
              "      <td>-2.0</td>\n",
              "      <td>-1.00</td>\n",
              "      <td>0.0</td>\n",
              "      <td>0.00</td>\n",
              "      <td>8.0</td>\n",
              "    </tr>\n",
              "    <tr>\n",
              "      <th>PAY_6</th>\n",
              "      <td>30000.0</td>\n",
              "      <td>-0.291100</td>\n",
              "      <td>1.149988</td>\n",
              "      <td>-2.0</td>\n",
              "      <td>-1.00</td>\n",
              "      <td>0.0</td>\n",
              "      <td>0.00</td>\n",
              "      <td>8.0</td>\n",
              "    </tr>\n",
              "    <tr>\n",
              "      <th>BILL_AMT1</th>\n",
              "      <td>30000.0</td>\n",
              "      <td>51223.330900</td>\n",
              "      <td>73635.860576</td>\n",
              "      <td>-165580.0</td>\n",
              "      <td>3558.75</td>\n",
              "      <td>22381.5</td>\n",
              "      <td>67091.00</td>\n",
              "      <td>964511.0</td>\n",
              "    </tr>\n",
              "    <tr>\n",
              "      <th>BILL_AMT2</th>\n",
              "      <td>30000.0</td>\n",
              "      <td>49179.075167</td>\n",
              "      <td>71173.768783</td>\n",
              "      <td>-69777.0</td>\n",
              "      <td>2984.75</td>\n",
              "      <td>21200.0</td>\n",
              "      <td>64006.25</td>\n",
              "      <td>983931.0</td>\n",
              "    </tr>\n",
              "    <tr>\n",
              "      <th>BILL_AMT3</th>\n",
              "      <td>30000.0</td>\n",
              "      <td>47013.154800</td>\n",
              "      <td>69349.387427</td>\n",
              "      <td>-157264.0</td>\n",
              "      <td>2666.25</td>\n",
              "      <td>20088.5</td>\n",
              "      <td>60164.75</td>\n",
              "      <td>1664089.0</td>\n",
              "    </tr>\n",
              "    <tr>\n",
              "      <th>BILL_AMT4</th>\n",
              "      <td>30000.0</td>\n",
              "      <td>43262.948967</td>\n",
              "      <td>64332.856134</td>\n",
              "      <td>-170000.0</td>\n",
              "      <td>2326.75</td>\n",
              "      <td>19052.0</td>\n",
              "      <td>54506.00</td>\n",
              "      <td>891586.0</td>\n",
              "    </tr>\n",
              "    <tr>\n",
              "      <th>BILL_AMT5</th>\n",
              "      <td>30000.0</td>\n",
              "      <td>40311.400967</td>\n",
              "      <td>60797.155770</td>\n",
              "      <td>-81334.0</td>\n",
              "      <td>1763.00</td>\n",
              "      <td>18104.5</td>\n",
              "      <td>50190.50</td>\n",
              "      <td>927171.0</td>\n",
              "    </tr>\n",
              "    <tr>\n",
              "      <th>BILL_AMT6</th>\n",
              "      <td>30000.0</td>\n",
              "      <td>38871.760400</td>\n",
              "      <td>59554.107537</td>\n",
              "      <td>-339603.0</td>\n",
              "      <td>1256.00</td>\n",
              "      <td>17071.0</td>\n",
              "      <td>49198.25</td>\n",
              "      <td>961664.0</td>\n",
              "    </tr>\n",
              "    <tr>\n",
              "      <th>PAY_AMT1</th>\n",
              "      <td>30000.0</td>\n",
              "      <td>5663.580500</td>\n",
              "      <td>16563.280354</td>\n",
              "      <td>0.0</td>\n",
              "      <td>1000.00</td>\n",
              "      <td>2100.0</td>\n",
              "      <td>5006.00</td>\n",
              "      <td>873552.0</td>\n",
              "    </tr>\n",
              "    <tr>\n",
              "      <th>PAY_AMT2</th>\n",
              "      <td>30000.0</td>\n",
              "      <td>5921.163500</td>\n",
              "      <td>23040.870402</td>\n",
              "      <td>0.0</td>\n",
              "      <td>833.00</td>\n",
              "      <td>2009.0</td>\n",
              "      <td>5000.00</td>\n",
              "      <td>1684259.0</td>\n",
              "    </tr>\n",
              "    <tr>\n",
              "      <th>PAY_AMT3</th>\n",
              "      <td>30000.0</td>\n",
              "      <td>5225.681500</td>\n",
              "      <td>17606.961470</td>\n",
              "      <td>0.0</td>\n",
              "      <td>390.00</td>\n",
              "      <td>1800.0</td>\n",
              "      <td>4505.00</td>\n",
              "      <td>896040.0</td>\n",
              "    </tr>\n",
              "    <tr>\n",
              "      <th>PAY_AMT4</th>\n",
              "      <td>30000.0</td>\n",
              "      <td>4826.076867</td>\n",
              "      <td>15666.159744</td>\n",
              "      <td>0.0</td>\n",
              "      <td>296.00</td>\n",
              "      <td>1500.0</td>\n",
              "      <td>4013.25</td>\n",
              "      <td>621000.0</td>\n",
              "    </tr>\n",
              "    <tr>\n",
              "      <th>PAY_AMT5</th>\n",
              "      <td>30000.0</td>\n",
              "      <td>4799.387633</td>\n",
              "      <td>15278.305679</td>\n",
              "      <td>0.0</td>\n",
              "      <td>252.50</td>\n",
              "      <td>1500.0</td>\n",
              "      <td>4031.50</td>\n",
              "      <td>426529.0</td>\n",
              "    </tr>\n",
              "    <tr>\n",
              "      <th>PAY_AMT6</th>\n",
              "      <td>30000.0</td>\n",
              "      <td>5215.502567</td>\n",
              "      <td>17777.465775</td>\n",
              "      <td>0.0</td>\n",
              "      <td>117.75</td>\n",
              "      <td>1500.0</td>\n",
              "      <td>4000.00</td>\n",
              "      <td>528666.0</td>\n",
              "    </tr>\n",
              "    <tr>\n",
              "      <th>default payment next month</th>\n",
              "      <td>30000.0</td>\n",
              "      <td>0.221200</td>\n",
              "      <td>0.415062</td>\n",
              "      <td>0.0</td>\n",
              "      <td>0.00</td>\n",
              "      <td>0.0</td>\n",
              "      <td>0.00</td>\n",
              "      <td>1.0</td>\n",
              "    </tr>\n",
              "  </tbody>\n",
              "</table>\n",
              "</div>\n",
              "      <button class=\"colab-df-convert\" onclick=\"convertToInteractive('df-9c7d0b4e-78f5-495c-b7e0-1b47eb05e6bf')\"\n",
              "              title=\"Convert this dataframe to an interactive table.\"\n",
              "              style=\"display:none;\">\n",
              "        \n",
              "  <svg xmlns=\"http://www.w3.org/2000/svg\" height=\"24px\"viewBox=\"0 0 24 24\"\n",
              "       width=\"24px\">\n",
              "    <path d=\"M0 0h24v24H0V0z\" fill=\"none\"/>\n",
              "    <path d=\"M18.56 5.44l.94 2.06.94-2.06 2.06-.94-2.06-.94-.94-2.06-.94 2.06-2.06.94zm-11 1L8.5 8.5l.94-2.06 2.06-.94-2.06-.94L8.5 2.5l-.94 2.06-2.06.94zm10 10l.94 2.06.94-2.06 2.06-.94-2.06-.94-.94-2.06-.94 2.06-2.06.94z\"/><path d=\"M17.41 7.96l-1.37-1.37c-.4-.4-.92-.59-1.43-.59-.52 0-1.04.2-1.43.59L10.3 9.45l-7.72 7.72c-.78.78-.78 2.05 0 2.83L4 21.41c.39.39.9.59 1.41.59.51 0 1.02-.2 1.41-.59l7.78-7.78 2.81-2.81c.8-.78.8-2.07 0-2.86zM5.41 20L4 18.59l7.72-7.72 1.47 1.35L5.41 20z\"/>\n",
              "  </svg>\n",
              "      </button>\n",
              "      \n",
              "  <style>\n",
              "    .colab-df-container {\n",
              "      display:flex;\n",
              "      flex-wrap:wrap;\n",
              "      gap: 12px;\n",
              "    }\n",
              "\n",
              "    .colab-df-convert {\n",
              "      background-color: #E8F0FE;\n",
              "      border: none;\n",
              "      border-radius: 50%;\n",
              "      cursor: pointer;\n",
              "      display: none;\n",
              "      fill: #1967D2;\n",
              "      height: 32px;\n",
              "      padding: 0 0 0 0;\n",
              "      width: 32px;\n",
              "    }\n",
              "\n",
              "    .colab-df-convert:hover {\n",
              "      background-color: #E2EBFA;\n",
              "      box-shadow: 0px 1px 2px rgba(60, 64, 67, 0.3), 0px 1px 3px 1px rgba(60, 64, 67, 0.15);\n",
              "      fill: #174EA6;\n",
              "    }\n",
              "\n",
              "    [theme=dark] .colab-df-convert {\n",
              "      background-color: #3B4455;\n",
              "      fill: #D2E3FC;\n",
              "    }\n",
              "\n",
              "    [theme=dark] .colab-df-convert:hover {\n",
              "      background-color: #434B5C;\n",
              "      box-shadow: 0px 1px 3px 1px rgba(0, 0, 0, 0.15);\n",
              "      filter: drop-shadow(0px 1px 2px rgba(0, 0, 0, 0.3));\n",
              "      fill: #FFFFFF;\n",
              "    }\n",
              "  </style>\n",
              "\n",
              "      <script>\n",
              "        const buttonEl =\n",
              "          document.querySelector('#df-9c7d0b4e-78f5-495c-b7e0-1b47eb05e6bf button.colab-df-convert');\n",
              "        buttonEl.style.display =\n",
              "          google.colab.kernel.accessAllowed ? 'block' : 'none';\n",
              "\n",
              "        async function convertToInteractive(key) {\n",
              "          const element = document.querySelector('#df-9c7d0b4e-78f5-495c-b7e0-1b47eb05e6bf');\n",
              "          const dataTable =\n",
              "            await google.colab.kernel.invokeFunction('convertToInteractive',\n",
              "                                                     [key], {});\n",
              "          if (!dataTable) return;\n",
              "\n",
              "          const docLinkHtml = 'Like what you see? Visit the ' +\n",
              "            '<a target=\"_blank\" href=https://colab.research.google.com/notebooks/data_table.ipynb>data table notebook</a>'\n",
              "            + ' to learn more about interactive tables.';\n",
              "          element.innerHTML = '';\n",
              "          dataTable['output_type'] = 'display_data';\n",
              "          await google.colab.output.renderOutput(dataTable, element);\n",
              "          const docLink = document.createElement('div');\n",
              "          docLink.innerHTML = docLinkHtml;\n",
              "          element.appendChild(docLink);\n",
              "        }\n",
              "      </script>\n",
              "    </div>\n",
              "  </div>\n",
              "  "
            ]
          },
          "metadata": {},
          "execution_count": 117
        }
      ]
    },
    {
      "cell_type": "markdown",
      "source": [
        "###**PRE-PROCESSING OF THE DATSET**"
      ],
      "metadata": {
        "id": "Xh2q1QPFyAUg"
      }
    },
    {
      "cell_type": "markdown",
      "source": [
        "**1. Missing Values**\n",
        "\n",
        "The real-world data often has a lot of missing values. The missing values can cause data corruption or failure to record data. The handling of missing data is very important during the preprocessing of the dataset as many machine learning algorithms do not support missing values.that's why we check missing values first"
      ],
      "metadata": {
        "id": "mAmWdJ4RyQa2"
      }
    },
    {
      "cell_type": "code",
      "source": [
        "#check for count of missing values in each column.\n",
        "credit_df.isnull().sum()"
      ],
      "metadata": {
        "colab": {
          "base_uri": "https://localhost:8080/"
        },
        "id": "vfzOc7zryNm-",
        "outputId": "f2777f98-09a2-4f8e-e9ab-e550c03f839d"
      },
      "execution_count": 118,
      "outputs": [
        {
          "output_type": "execute_result",
          "data": {
            "text/plain": [
              "ID                            0\n",
              "LIMIT_BAL                     0\n",
              "SEX                           0\n",
              "EDUCATION                     0\n",
              "MARRIAGE                      0\n",
              "AGE                           0\n",
              "PAY_0                         0\n",
              "PAY_2                         0\n",
              "PAY_3                         0\n",
              "PAY_4                         0\n",
              "PAY_5                         0\n",
              "PAY_6                         0\n",
              "BILL_AMT1                     0\n",
              "BILL_AMT2                     0\n",
              "BILL_AMT3                     0\n",
              "BILL_AMT4                     0\n",
              "BILL_AMT5                     0\n",
              "BILL_AMT6                     0\n",
              "PAY_AMT1                      0\n",
              "PAY_AMT2                      0\n",
              "PAY_AMT3                      0\n",
              "PAY_AMT4                      0\n",
              "PAY_AMT5                      0\n",
              "PAY_AMT6                      0\n",
              "default payment next month    0\n",
              "dtype: int64"
            ]
          },
          "metadata": {},
          "execution_count": 118
        }
      ]
    },
    {
      "cell_type": "markdown",
      "source": [
        "**Thankfully there is no NULL Values in the Dataset**"
      ],
      "metadata": {
        "id": "mZ3Ld41IyaXY"
      }
    },
    {
      "cell_type": "code",
      "source": [
        "# Plotting missing values count in Percentage for Better understandings.\n",
        "missing = pd.DataFrame((credit_df.isnull().sum())*100/credit_df.shape[0]).reset_index()\n",
        "plt.figure(figsize=(18,6))\n",
        "ax = sns.pointplot('index',0,data=missing)\n",
        "plt.xticks(rotation =90,fontsize =7)\n",
        "plt.title(\"Percentage of Missing values\")\n",
        "plt.ylabel(\"PERCENTAGE\")\n",
        "plt.show()"
      ],
      "metadata": {
        "colab": {
          "base_uri": "https://localhost:8080/",
          "height": 495
        },
        "id": "fYYWrspmyNkL",
        "outputId": "11d5346c-662a-4515-92e8-485511448857"
      },
      "execution_count": 119,
      "outputs": [
        {
          "output_type": "display_data",
          "data": {
            "text/plain": [
              "<Figure size 1296x432 with 1 Axes>"
            ],
            "image/png": "[encoded data removed]"
          },
          "metadata": {
            "needs_background": "light"
          }
        }
      ]
    },
    {
      "cell_type": "markdown",
      "source": [
        "**2. Duplicate Values**\n",
        "\n",
        "\"Duplication\" just means that you have repeated data in your dataset. This could be due to things like data entry errors or data collection methods. by removing duplication in our data set, Time and money are saved by not sending identical communications multiple times to the same person."
      ],
      "metadata": {
        "id": "aRXjPcMQyuGn"
      }
    },
    {
      "cell_type": "code",
      "source": [
        "# Checking Duplicate Values\n",
        "value=len(credit_df[credit_df.duplicated()])\n",
        "print(\"The number of duplicate values in the data set is = \",value)"
      ],
      "metadata": {
        "colab": {
          "base_uri": "https://localhost:8080/"
        },
        "id": "rVfRCZtUyNhm",
        "outputId": "7da7ea3e-a512-4d49-a769-2c941703f3bb"
      },
      "execution_count": 120,
      "outputs": [
        {
          "output_type": "stream",
          "name": "stdout",
          "text": [
            "The number of duplicate values in the data set is =  0\n"
          ]
        }
      ]
    },
    {
      "cell_type": "markdown",
      "source": [
        "**Thankfully there is no Duplicate Values present in the Dataset**"
      ],
      "metadata": {
        "id": "heuSnEYCzJkC"
      }
    },
    {
      "cell_type": "markdown",
      "source": [
        "###**About Dataset**"
      ],
      "metadata": {
        "id": "d66w2vBupHsx"
      }
    },
    {
      "cell_type": "markdown",
      "source": [
        "This dataset contains information on default payments, demographic factors, credit data, history of payment, and bill statements of credit card clients in Taiwan from April 2005 to September 2005.\n",
        "\n",
        "There are 25 variables:\n",
        "\n",
        "\n",
        "\n",
        "*   ID: ID of each client\n",
        "\n",
        "*  LIMIT_BAL: Amount of given credit in NT dollars (includes individual and family/supplementary credit\n",
        "\n",
        "*  SEX: Gender (1=male, 2=female) \n",
        "\n",
        "*   EDUCATION: (1=graduate school, 2=university, 3=high school, 4=others, 5=unknown, 6=unknown)\n",
        "\n",
        "*   MARRIAGE: Marital status (1=married, 2=single, 3=others)\n",
        "\n",
        "*  AGE: Age in years \n",
        "\n",
        "*  PAY_0: Repayment status in September, 2005 (-1=pay duly, 1=payment delay for one month, 2=payment delay for two months, … 8=payment delay for eight months, 9=payment delay for nine months and above)\n",
        "\n",
        "*  PAY_2: Repayment status in August, 2005 (scale same as above)\n",
        "\n",
        "*   PAY_3: Repayment status in July, 2005 (scale same as above)\n",
        "\n",
        "*   PAY_4: Repayment status in June, 2005 (scale same as above)\n",
        "\n",
        "*   PAY_5: Repayment status in May, 2005 (scale same as above)\n",
        "\n",
        "*   PAY_6: Repayment status in April, 2005 (scale same as above)\n",
        "\n",
        "*   BILL_AMT1: Amount of bill statement in September, 2005 (NT dollar)\n",
        "\n",
        "*   BILL_AMT2: Amount of bill statement in August, 2005 (NT dollar)\n",
        "\n",
        "*   BILL_AMT3: Amount of bill statement in July, 2005 (NT dollar\n",
        "\n",
        "*   BILL_AMT4: Amount of bill statement in June, 2005 (NT dollar\n",
        "\n",
        "*   BILL_AMT5: Amount of bill statement in May, 2005 (NT dollar)\n",
        "\n",
        "*   BILL_AMT6: Amount of bill statement in April, 2005 (NT dollar)\n",
        "\n",
        "*   PAY_AMT1: Amount of previous payment in September, 2005 (NT dollar)\n",
        "\n",
        "*   PAY_AMT2: Amount of previous payment in August, 2005 (NT dollar)\n",
        "\n",
        "*   PAY_AMT3: Amount of previous payment in July, 2005 (NT dollar)\n",
        "\n",
        "*   PAY_AMT4: Amount of previous payment in June, 2005 (NT dollar)\n",
        "\n",
        "*   PAY_AMT5: Amount of previous payment in May, 2005 (NT dollar)\n",
        "\n",
        "*   PAY_AMT6: Amount of previous payment in April, 2005 (NT dollar)\n",
        "\n",
        "*   default.payment.next.month: Default payment (1=yes, 0=no)\n",
        "\n",
        "\n",
        "\n"
      ],
      "metadata": {
        "id": "z_Y1_Yz9qH20"
      }
    },
    {
      "cell_type": "markdown",
      "source": [
        "##**EXPLORATARY DATA ANALYSIS OF THE DATASET**"
      ],
      "metadata": {
        "id": "ZuQUagCpsycI"
      }
    },
    {
      "cell_type": "markdown",
      "source": [
        "###**1.Default payment next month.(Distribution of Labels)**\n",
        "\n",
        "\n",
        "\n"
      ],
      "metadata": {
        "id": "m8k2daILz0_-"
      }
    },
    {
      "cell_type": "code",
      "source": [
        "# Distribution of defaults\n",
        "credit_df=credit_df.rename(columns={'default payment next month':'default'})\n",
        "credit_df.default.value_counts()"
      ],
      "metadata": {
        "colab": {
          "base_uri": "https://localhost:8080/"
        },
        "id": "q7lQx3BXqP0K",
        "outputId": "72fadd6f-1629-4f30-ac5d-b515c6e9d4e5"
      },
      "execution_count": 121,
      "outputs": [
        {
          "output_type": "execute_result",
          "data": {
            "text/plain": [
              "0    23364\n",
              "1     6636\n",
              "Name: default, dtype: int64"
            ]
          },
          "metadata": {},
          "execution_count": 121
        }
      ]
    },
    {
      "cell_type": "code",
      "source": [
        "plt.figure(dpi=100)\n",
        "sns.countplot(x=\"default\", data=credit_df)\n",
        "plt.xlabel(\"Default\")\n",
        "plt.ylabel(\"Count\")\n",
        "plt.show()"
      ],
      "metadata": {
        "colab": {
          "base_uri": "https://localhost:8080/",
          "height": 382
        },
        "id": "5QosJ9mltd9C",
        "outputId": "34bfe7d9-1ea3-4170-d853-4a6b9275dbb8"
      },
      "execution_count": 122,
      "outputs": [
        {
          "output_type": "display_data",
          "data": {
            "text/plain": [
              "<Figure size 600x400 with 1 Axes>"
            ],
            "image/png": "[encoded data removed]"
          },
          "metadata": {
            "needs_background": "light"
          }
        }
      ]
    },
    {
      "cell_type": "markdown",
      "source": [
        "**Most of the default payments for next month is YES(Which menas around 24000 people are paying next month).**"
      ],
      "metadata": {
        "id": "SoNRMa--4dOe"
      }
    },
    {
      "cell_type": "markdown",
      "source": [
        "###**2.Gender**"
      ],
      "metadata": {
        "id": "72eJcTCa0DDI"
      }
    },
    {
      "cell_type": "code",
      "source": [
        "def sex1(x):\n",
        "    if (x==1):\n",
        "        return \"Male\"\n",
        "    else:\n",
        "        return \"Female\"\n",
        "credit_df['SEX']=credit_card_df['SEX'].apply(sex1)"
      ],
      "metadata": {
        "id": "HMG57rpouArT"
      },
      "execution_count": 123,
      "outputs": []
    },
    {
      "cell_type": "code",
      "source": [
        "plt.figure(dpi=100)\n",
        "credit_df.SEX.value_counts()\n",
        "sns.countplot(x=\"SEX\", data=credit_df)\n",
        "plt.title(\"Ratio of Gender\", size=15)\n",
        "plt.xlabel(\"Sex\")\n",
        "plt.ylabel(\"Count\")\n",
        "plt.show()"
      ],
      "metadata": {
        "colab": {
          "base_uri": "https://localhost:8080/",
          "height": 406
        },
        "id": "E53X-eH6upCI",
        "outputId": "afe771a8-d80f-4b68-ad45-33b83b08a731"
      },
      "execution_count": 124,
      "outputs": [
        {
          "output_type": "display_data",
          "data": {
            "text/plain": [
              "<Figure size 600x400 with 1 Axes>"
            ],
            "image/png": "[encoded data removed]"
          },
          "metadata": {
            "needs_background": "light"
          }
        }
      ]
    },
    {
      "cell_type": "markdown",
      "source": [
        "###**3.Education.**"
      ],
      "metadata": {
        "id": "hBn5KXSi0K-b"
      }
    },
    {
      "cell_type": "code",
      "source": [
        "credit_df.EDUCATION.value_counts()"
      ],
      "metadata": {
        "colab": {
          "base_uri": "https://localhost:8080/"
        },
        "id": "z8sAlKx5uzcK",
        "outputId": "dc50685f-d593-4446-be47-45a2643678c1"
      },
      "execution_count": 125,
      "outputs": [
        {
          "output_type": "execute_result",
          "data": {
            "text/plain": [
              "2    14030\n",
              "1    10585\n",
              "3     4917\n",
              "5      280\n",
              "4      123\n",
              "6       51\n",
              "0       14\n",
              "Name: EDUCATION, dtype: int64"
            ]
          },
          "metadata": {},
          "execution_count": 125
        }
      ]
    },
    {
      "cell_type": "code",
      "source": [
        "def edu(x):\n",
        "    if (x==0) or (x==5) or (x==6):\n",
        "        x=4\n",
        "    return x\n",
        "credit_card_df['EDUCATION']=credit_card_df['EDUCATION'].apply(edu)\n",
        "credit_df['EDUCATION']=credit_df['EDUCATION'].apply(edu)"
      ],
      "metadata": {
        "id": "bnvM7ng0vKc9"
      },
      "execution_count": 126,
      "outputs": []
    },
    {
      "cell_type": "code",
      "source": [
        "def edu1(x):\n",
        "    if (x==1):\n",
        "        return \"Graduate school\"\n",
        "    elif (x==2):\n",
        "        return \"University\"\n",
        "    elif (x==3):\n",
        "        return \"High School\"\n",
        "    else:\n",
        "        return \"Others\"\n",
        "credit_df['EDUCATION']=credit_df['EDUCATION'].apply(edu1)"
      ],
      "metadata": {
        "id": "zjwlCGBTv2rj"
      },
      "execution_count": 127,
      "outputs": []
    },
    {
      "cell_type": "code",
      "source": [
        "plt.figure(dpi=100)\n",
        "credit_df.EDUCATION.value_counts()\n",
        "sns.countplot(x=\"EDUCATION\", hue=\"default\", data=credit_df)\n",
        "plt.xlabel(\"Education\")\n",
        "plt.ylabel(\"Count\")\n",
        "plt.show()"
      ],
      "metadata": {
        "colab": {
          "base_uri": "https://localhost:8080/",
          "height": 382
        },
        "id": "VaRay8cRwIhF",
        "outputId": "963751b0-3f34-473c-a0ed-39ddc13ba27f"
      },
      "execution_count": 128,
      "outputs": [
        {
          "output_type": "display_data",
          "data": {
            "text/plain": [
              "<Figure size 600x400 with 1 Axes>"
            ],
            "image/png": "[encoded data removed]"
          },
          "metadata": {
            "needs_background": "light"
          }
        }
      ]
    },
    {
      "cell_type": "markdown",
      "source": [
        "###**4.Marriage**"
      ],
      "metadata": {
        "id": "Dq2paovS0UHl"
      }
    },
    {
      "cell_type": "code",
      "source": [
        "credit_card_df.MARRIAGE.value_counts()"
      ],
      "metadata": {
        "colab": {
          "base_uri": "https://localhost:8080/"
        },
        "id": "mDTT9rMFwTYW",
        "outputId": "d5ceb723-65cf-41f7-8cfb-5bfccd6770a3"
      },
      "execution_count": 129,
      "outputs": [
        {
          "output_type": "execute_result",
          "data": {
            "text/plain": [
              "2    15964\n",
              "1    13659\n",
              "3      323\n",
              "0       54\n",
              "Name: MARRIAGE, dtype: int64"
            ]
          },
          "metadata": {},
          "execution_count": 129
        }
      ]
    },
    {
      "cell_type": "code",
      "source": [
        "def marriage(x):\n",
        "    if (x==0):\n",
        "        x=3\n",
        "    return x\n",
        "credit_card_df['MARRIAGE']=credit_card_df['MARRIAGE'].apply(marriage)\n",
        "credit_df['MARRIAGE']=credit_df['MARRIAGE'].apply(marriage)"
      ],
      "metadata": {
        "id": "NV5vNU-67jUQ"
      },
      "execution_count": 130,
      "outputs": []
    },
    {
      "cell_type": "code",
      "source": [
        "def marriage1(x):\n",
        "    if (x==1):\n",
        "        return \"Married\"\n",
        "    elif (x==2):\n",
        "        return \"Single\"\n",
        "    else:\n",
        "        return \"Others\"\n",
        "credit_df['MARRIAGE']=credit_df['MARRIAGE'].apply(marriage1)"
      ],
      "metadata": {
        "id": "MbSim6bh7263"
      },
      "execution_count": 131,
      "outputs": []
    },
    {
      "cell_type": "code",
      "source": [
        "plt.figure(dpi=100)\n",
        "credit_df.MARRIAGE.value_counts()\n",
        "sns.countplot(x=\"MARRIAGE\", hue=\"default\", data=credit_df)\n",
        "plt.xlabel(\"Marriage\")\n",
        "plt.ylabel(\"Count\")\n",
        "plt.show()"
      ],
      "metadata": {
        "colab": {
          "base_uri": "https://localhost:8080/",
          "height": 382
        },
        "id": "kZorI9Tw7-q8",
        "outputId": "bfbd12a9-b140-47af-8716-310e297ee840"
      },
      "execution_count": 132,
      "outputs": [
        {
          "output_type": "display_data",
          "data": {
            "text/plain": [
              "<Figure size 600x400 with 1 Axes>"
            ],
            "image/png": "[encoded data removed]"
          },
          "metadata": {
            "needs_background": "light"
          }
        }
      ]
    },
    {
      "cell_type": "markdown",
      "source": [
        "###**5.Age.**"
      ],
      "metadata": {
        "id": "T4qUFe530bsQ"
      }
    },
    {
      "cell_type": "code",
      "source": [
        "plt.figure(figsize=(18,6))\n",
        "age=credit_df['AGE'].value_counts().reset_index()\n",
        "sns.barplot(x='index',y='AGE',data=age,orient='v')\n",
        "plt.xlabel(\"Age\")\n",
        "plt.ylabel(\"Count\")\n",
        "plt.show()"
      ],
      "metadata": {
        "colab": {
          "base_uri": "https://localhost:8080/",
          "height": 388
        },
        "id": "fmQoLPkIxCQJ",
        "outputId": "3c3d5c13-d5c4-4de9-9645-feefe74cf299"
      },
      "execution_count": 133,
      "outputs": [
        {
          "output_type": "display_data",
          "data": {
            "text/plain": [
              "<Figure size 1296x432 with 1 Axes>"
            ],
            "image/png": "[encoded data removed]"
          },
          "metadata": {
            "needs_background": "light"
          }
        }
      ]
    },
    {
      "cell_type": "code",
      "source": [
        ""
      ],
      "metadata": {
        "id": "zI5NoAecxVz3"
      },
      "execution_count": null,
      "outputs": []
    }
  ]
}